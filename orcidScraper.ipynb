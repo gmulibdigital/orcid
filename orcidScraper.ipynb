{
 "cells": [
  {
   "cell_type": "code",
   "execution_count": 1,
   "metadata": {
    "collapsed": false
   },
   "outputs": [],
   "source": [
    "import requests\n",
    "import secrets\n",
    "from datetime import date\n",
    "import csv\n",
    "import json\n",
    "import pprint\n",
    "import math"
   ]
  },
  {
   "cell_type": "markdown",
   "metadata": {},
   "source": [
    "The first step is to use credentials to get a token. These can be generated from an individual ORCID account page under \"Developer Tools.\" This search uses the public API. \n",
    "\n",
    "Modify the empty \"secrets.py\" file in this directory to load in credentials."
   ]
  },
  {
   "cell_type": "code",
   "execution_count": 2,
   "metadata": {
    "collapsed": false
   },
   "outputs": [],
   "source": [
    "url = 'https://pub.orcid.org/oauth/token'\n",
    "headers = {\"Accept\":\"application/json\"} \n",
    "payload = {'client_id': secrets.clientID(), \n",
    "           'client_secret': secrets.secret(),\n",
    "           'scope':'/read-public',\n",
    "           'grant_type' : 'client_credentials'}"
   ]
  },
  {
   "cell_type": "code",
   "execution_count": 3,
   "metadata": {
    "collapsed": false
   },
   "outputs": [],
   "source": [
    "r = requests.post(url, headers = headers, data = payload)"
   ]
  },
  {
   "cell_type": "code",
   "execution_count": 4,
   "metadata": {
    "collapsed": false
   },
   "outputs": [],
   "source": [
    "token = r.json()['access_token']"
   ]
  },
  {
   "cell_type": "markdown",
   "metadata": {},
   "source": [
    "With the token in hand, we can now execute queries against the public api. Some documentation on how to format a search query can be found at [http://members.orcid.org/api/tutorial-searching-data-using-api](http://members.orcid.org/api/tutorial-searching-data-using-api)"
   ]
  },
  {
   "cell_type": "code",
   "execution_count": 53,
   "metadata": {
    "collapsed": true
   },
   "outputs": [],
   "source": [
    "search = '3298+AND+MASON+OR+email:*@gmu.edu+OR+email:*@masonlive.gmu.edu'"
   ]
  },
  {
   "cell_type": "code",
   "execution_count": 54,
   "metadata": {
    "collapsed": true
   },
   "outputs": [],
   "source": [
    "# This is a helper function to get the number of search results for pagination purposes.\n",
    "\n",
    "def getNumberofResults(search):\n",
    "    searchURL = 'https://pub.orcid.org/v1.2/search/orcid-bio?q={}'.format(search)\n",
    "    headers = {\"Content-Type\":\"application/orcid+json\", \n",
    "               \"Accept\":\"application/json\", \n",
    "               \"Authorization\":\"Bearer {}\".format(token)}\n",
    "    r = requests.get(searchURL, headers = headers)\n",
    "    return(r.json()['orcid-search-results']['num-found'])"
   ]
  },
  {
   "cell_type": "code",
   "execution_count": 55,
   "metadata": {
    "collapsed": true
   },
   "outputs": [],
   "source": [
    "# This is the search function, which is called in the `queryOrcidApi` function below.\n",
    "\n",
    "def orcidSearch(search, token, start, rows):\n",
    "    searchURL = 'https://pub.orcid.org/v1.2/search/orcid-bio?q={}&start={}&rows={}'.format(search, str(start),str(rows))\n",
    "    headers = {\"Content-Type\":\"application/orcid+json\", \n",
    "               \"Accept\":\"application/json\", \n",
    "               \"Authorization\":\"Bearer \" + token}\n",
    "    r = requests.get(searchURL, headers = headers)\n",
    "    return(r)"
   ]
  },
  {
   "cell_type": "code",
   "execution_count": 56,
   "metadata": {
    "collapsed": false
   },
   "outputs": [],
   "source": [
    "# This is the compiled search function which takes the token from above and the search string. The API only return 100\n",
    "# results at a time, so the function first determines if the total is under 100. If yes, it pull them all. If it is\n",
    "# greater than 100, it iterates through as many times as it takes to get all of the pages of 100 results and returns\n",
    "# them as a list.\n",
    "\n",
    "def queryOrcidApi(search, token):\n",
    "    num_results = getNumberofResults(search)\n",
    "    print('{} search results found'.format(num_results))\n",
    "    results = []\n",
    "    if num_results < 100:\n",
    "        start = 0\n",
    "        rows = num_results\n",
    "        r = orcidSearch(search, token, start, rows)\n",
    "        results.append(r.json())\n",
    "    else:\n",
    "        for i in range(math.ceil(num_results/100)): \n",
    "            start = i * 100\n",
    "            print('Pulling records starting from {}'.format(start))\n",
    "            rows = 100 \n",
    "            r = orcidSearch(search, token, start, rows)\n",
    "            results.append(r.json())\n",
    "    return(results)"
   ]
  },
  {
   "cell_type": "code",
   "execution_count": 57,
   "metadata": {
    "collapsed": false
   },
   "outputs": [
    {
     "name": "stdout",
     "output_type": "stream",
     "text": [
      "393 search results found\n",
      "Pulling records starting from 0\n",
      "Pulling records starting from 100\n",
      "Pulling records starting from 200\n",
      "Pulling records starting from 300\n"
     ]
    }
   ],
   "source": [
    "results = queryOrcidApi(search, token)"
   ]
  },
  {
   "cell_type": "markdown",
   "metadata": {},
   "source": [
    "With all of the search results in hand, we can now create a single list of the individual result dictionaries."
   ]
  },
  {
   "cell_type": "code",
   "execution_count": 49,
   "metadata": {
    "collapsed": false
   },
   "outputs": [],
   "source": [
    "searchResults = []\n",
    "\n",
    "for each in results:\n",
    "    blob = each['orcid-search-results']['orcid-search-result']\n",
    "    for blip in blob:\n",
    "        searchResults.append(blip)"
   ]
  },
  {
   "cell_type": "code",
   "execution_count": 50,
   "metadata": {
    "collapsed": false
   },
   "outputs": [
    {
     "data": {
      "text/plain": [
       "1"
      ]
     },
     "execution_count": 50,
     "metadata": {},
     "output_type": "execute_result"
    }
   ],
   "source": [
    "len(searchResults)"
   ]
  },
  {
   "cell_type": "markdown",
   "metadata": {},
   "source": [
    "Finally, we can write the results to a CSV file. Some of the results (3) did not include the family and given name in the public information. As a result, here I am checking for these fields of interest and including a blank value if it is not provided. The error message will alert if additional missing values are encountered."
   ]
  },
  {
   "cell_type": "code",
   "execution_count": 51,
   "metadata": {
    "collapsed": false
   },
   "outputs": [],
   "source": [
    "with open('{}-orcid-output.csv'.format(str(date.today())), 'wt') as f:\n",
    "    writer = csv.writer(f)\n",
    "    writer.writerow([\"family-name\", \"given-name\", \"orcid-id\", \"orcid-url\"])\n",
    "    for each in searchResults:\n",
    "        try:\n",
    "            family_name = each['orcid-profile']['orcid-bio']['personal-details']['family-name']['value']\n",
    "        except:\n",
    "            family_name = \"\"\n",
    "        try:\n",
    "            given_name = each['orcid-profile']['orcid-bio']['personal-details']['given-names']['value']\n",
    "        except:\n",
    "            given_name = \"\"\n",
    "        try:\n",
    "            identifier = each['orcid-profile']['orcid-identifier']['path']\n",
    "            uri = each['orcid-profile']['orcid-identifier']['uri']\n",
    "        \n",
    "        except TypeError:\n",
    "            print('There was an error processing record {}'.format(searchResults.index(each)))\n",
    "            \n",
    "        writer.writerow([family_name, given_name, identifier, uri])"
   ]
  },
  {
   "cell_type": "code",
   "execution_count": null,
   "metadata": {
    "collapsed": true
   },
   "outputs": [],
   "source": []
  }
 ],
 "metadata": {
  "kernelspec": {
   "display_name": "Python 3",
   "language": "python",
   "name": "python3"
  },
  "language_info": {
   "codemirror_mode": {
    "name": "ipython",
    "version": 3
   },
   "file_extension": ".py",
   "mimetype": "text/x-python",
   "name": "python",
   "nbconvert_exporter": "python",
   "pygments_lexer": "ipython3",
   "version": "3.4.3"
  }
 },
 "nbformat": 4,
 "nbformat_minor": 0
}
